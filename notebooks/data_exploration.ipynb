{
 "cells": [
  {
   "cell_type": "code",
   "execution_count": 27,
   "id": "6263634b-6632-4d44-a93c-d0339ebf736c",
   "metadata": {},
   "outputs": [],
   "source": [
    "import numpy as np\n",
    "import pandas as pd\n",
    "import matplotlib.pyplot as plt\n",
    "import librosa as lb\n",
    "from glob import glob"
   ]
  },
  {
   "cell_type": "code",
   "execution_count": 2,
   "id": "186a5ed0-51d9-4710-9ff7-069ac9cdc380",
   "metadata": {},
   "outputs": [
    {
     "data": {
      "text/html": [
       "<div>\n",
       "<style scoped>\n",
       "    .dataframe tbody tr th:only-of-type {\n",
       "        vertical-align: middle;\n",
       "    }\n",
       "\n",
       "    .dataframe tbody tr th {\n",
       "        vertical-align: top;\n",
       "    }\n",
       "\n",
       "    .dataframe thead th {\n",
       "        text-align: right;\n",
       "    }\n",
       "</style>\n",
       "<table border=\"1\" class=\"dataframe\">\n",
       "  <thead>\n",
       "    <tr style=\"text-align: right;\">\n",
       "      <th></th>\n",
       "      <th>Song</th>\n",
       "      <th>Artist</th>\n",
       "      <th>Title</th>\n",
       "      <th>Quadrant</th>\n",
       "      <th>PQuad</th>\n",
       "      <th>MoodsTotal</th>\n",
       "      <th>Moods</th>\n",
       "      <th>MoodsFoundStr</th>\n",
       "      <th>MoodsStr</th>\n",
       "      <th>MoodsStrSplit</th>\n",
       "      <th>Genres</th>\n",
       "      <th>GenresStr</th>\n",
       "      <th>Sample</th>\n",
       "      <th>SampleURL</th>\n",
       "    </tr>\n",
       "  </thead>\n",
       "  <tbody>\n",
       "    <tr>\n",
       "      <th>0</th>\n",
       "      <td>MT0000004637</td>\n",
       "      <td>Charlie Poole</td>\n",
       "      <td>Bulldog Down in Sunny Tennessee</td>\n",
       "      <td>Q3</td>\n",
       "      <td>0.666667</td>\n",
       "      <td>3</td>\n",
       "      <td>3</td>\n",
       "      <td>circular; greasy; messy</td>\n",
       "      <td>Circular; Greasy; Messy</td>\n",
       "      <td>Circular; Greasy; Messy</td>\n",
       "      <td>2</td>\n",
       "      <td>Country; International</td>\n",
       "      <td>1</td>\n",
       "      <td>http://rovimusic.rovicorp.com/playback.mp3?c=l...</td>\n",
       "    </tr>\n",
       "    <tr>\n",
       "      <th>1</th>\n",
       "      <td>MT0000011357</td>\n",
       "      <td>Dismember</td>\n",
       "      <td>Reborn in Blasphemy</td>\n",
       "      <td>Q2</td>\n",
       "      <td>0.666667</td>\n",
       "      <td>3</td>\n",
       "      <td>3</td>\n",
       "      <td>jittery; negative; nervous</td>\n",
       "      <td>Negative; Nervous/Jittery</td>\n",
       "      <td>Negative; Nervous; Jittery</td>\n",
       "      <td>3</td>\n",
       "      <td>Electronic; International; Pop/Rock</td>\n",
       "      <td>1</td>\n",
       "      <td>http://rovimusic.rovicorp.com/playback.mp3?c=0...</td>\n",
       "    </tr>\n",
       "    <tr>\n",
       "      <th>2</th>\n",
       "      <td>MT0000011975</td>\n",
       "      <td>Curse of the Golden Vampire</td>\n",
       "      <td>Ultrasonic Meltdown</td>\n",
       "      <td>Q2</td>\n",
       "      <td>0.666667</td>\n",
       "      <td>6</td>\n",
       "      <td>5</td>\n",
       "      <td>fierce; harsh; hostile; menacing; outrageous</td>\n",
       "      <td>Fierce; Harsh; Hostile; Menacing; Outrageous; ...</td>\n",
       "      <td>Fierce; Harsh; Hostile; Menacing; Outrageous; ...</td>\n",
       "      <td>1</td>\n",
       "      <td>Electronic</td>\n",
       "      <td>1</td>\n",
       "      <td>http://rovimusic.rovicorp.com/playback.mp3?c=_...</td>\n",
       "    </tr>\n",
       "    <tr>\n",
       "      <th>3</th>\n",
       "      <td>MT0000040632</td>\n",
       "      <td>Gipsy Kings</td>\n",
       "      <td>Flamencos en el Aire</td>\n",
       "      <td>Q1</td>\n",
       "      <td>0.750000</td>\n",
       "      <td>4</td>\n",
       "      <td>3</td>\n",
       "      <td>fiery; sexy; spicy</td>\n",
       "      <td>Cathartic; Fiery; Sexy; Spicy</td>\n",
       "      <td>Cathartic; Fiery; Sexy; Spicy</td>\n",
       "      <td>2</td>\n",
       "      <td>International; Jazz</td>\n",
       "      <td>1</td>\n",
       "      <td>http://rovimusic.rovicorp.com/playback.mp3?c=G...</td>\n",
       "    </tr>\n",
       "    <tr>\n",
       "      <th>4</th>\n",
       "      <td>MT0000044741</td>\n",
       "      <td>Little Walter</td>\n",
       "      <td>Last Night</td>\n",
       "      <td>Q3</td>\n",
       "      <td>0.750000</td>\n",
       "      <td>4</td>\n",
       "      <td>4</td>\n",
       "      <td>greasy; gritty; gutsy; lazy</td>\n",
       "      <td>Greasy; Gritty; Gutsy; Lazy</td>\n",
       "      <td>Greasy; Gritty; Gutsy; Lazy</td>\n",
       "      <td>1</td>\n",
       "      <td>Blues</td>\n",
       "      <td>1</td>\n",
       "      <td>http://rovimusic.rovicorp.com/playback.mp3?c=k...</td>\n",
       "    </tr>\n",
       "  </tbody>\n",
       "</table>\n",
       "</div>"
      ],
      "text/plain": [
       "           Song                       Artist                            Title  \\\n",
       "0  MT0000004637                Charlie Poole  Bulldog Down in Sunny Tennessee   \n",
       "1  MT0000011357                    Dismember              Reborn in Blasphemy   \n",
       "2  MT0000011975  Curse of the Golden Vampire              Ultrasonic Meltdown   \n",
       "3  MT0000040632                  Gipsy Kings             Flamencos en el Aire   \n",
       "4  MT0000044741                Little Walter                       Last Night   \n",
       "\n",
       "  Quadrant     PQuad  MoodsTotal  Moods  \\\n",
       "0       Q3  0.666667           3      3   \n",
       "1       Q2  0.666667           3      3   \n",
       "2       Q2  0.666667           6      5   \n",
       "3       Q1  0.750000           4      3   \n",
       "4       Q3  0.750000           4      4   \n",
       "\n",
       "                                  MoodsFoundStr  \\\n",
       "0                       circular; greasy; messy   \n",
       "1                    jittery; negative; nervous   \n",
       "2  fierce; harsh; hostile; menacing; outrageous   \n",
       "3                            fiery; sexy; spicy   \n",
       "4                   greasy; gritty; gutsy; lazy   \n",
       "\n",
       "                                            MoodsStr  \\\n",
       "0                            Circular; Greasy; Messy   \n",
       "1                          Negative; Nervous/Jittery   \n",
       "2  Fierce; Harsh; Hostile; Menacing; Outrageous; ...   \n",
       "3                      Cathartic; Fiery; Sexy; Spicy   \n",
       "4                        Greasy; Gritty; Gutsy; Lazy   \n",
       "\n",
       "                                       MoodsStrSplit  Genres  \\\n",
       "0                            Circular; Greasy; Messy       2   \n",
       "1                         Negative; Nervous; Jittery       3   \n",
       "2  Fierce; Harsh; Hostile; Menacing; Outrageous; ...       1   \n",
       "3                      Cathartic; Fiery; Sexy; Spicy       2   \n",
       "4                        Greasy; Gritty; Gutsy; Lazy       1   \n",
       "\n",
       "                             GenresStr  Sample  \\\n",
       "0               Country; International       1   \n",
       "1  Electronic; International; Pop/Rock       1   \n",
       "2                           Electronic       1   \n",
       "3                  International; Jazz       1   \n",
       "4                                Blues       1   \n",
       "\n",
       "                                           SampleURL  \n",
       "0  http://rovimusic.rovicorp.com/playback.mp3?c=l...  \n",
       "1  http://rovimusic.rovicorp.com/playback.mp3?c=0...  \n",
       "2  http://rovimusic.rovicorp.com/playback.mp3?c=_...  \n",
       "3  http://rovimusic.rovicorp.com/playback.mp3?c=G...  \n",
       "4  http://rovimusic.rovicorp.com/playback.mp3?c=k...  "
      ]
     },
     "execution_count": 2,
     "metadata": {},
     "output_type": "execute_result"
    }
   ],
   "source": [
    "metadata = pd.read_csv('data/panda_dataset_taffc_metadata.csv')\n",
    "metadata.head()"
   ]
  },
  {
   "cell_type": "code",
   "execution_count": 18,
   "id": "b3692722-c356-4c75-b4ae-0b9226d07d52",
   "metadata": {},
   "outputs": [],
   "source": [
    "genres = metadata['GenresStr'].str.split('; ')\n",
    "genre_dict = {}\n",
    "for item in genres:\n",
    "    n = len(item)\n",
    "    for genre in item:\n",
    "        if genre in genre_dict.keys():\n",
    "            genre_dict[genre] += 1/n\n",
    "        else:\n",
    "            genre_dict[genre] = 1/n\n",
    "relative_genres = sorted(genre_dict.items(), key=lambda x: x[1], reverse=True)\n",
    "y = [item[0] for item in relative_genres]\n",
    "width = [item[1] for item in relative_genres]\n",
    "width_sum = sum(width)\n",
    "width = [100*w/width_sum for w in width]"
   ]
  },
  {
   "cell_type": "code",
   "execution_count": 24,
   "id": "68b550d7-3d86-4ea3-ae61-b52c84f8935f",
   "metadata": {},
   "outputs": [
    {
     "data": {
      "image/png": "[encoded data removed]",
      "text/plain": [
       "<Figure size 576x432 with 1 Axes>"
      ]
     },
     "metadata": {
      "needs_background": "light"
     },
     "output_type": "display_data"
    }
   ],
   "source": [
    "plt.figure(figsize=(8,6))\n",
    "plt.barh(y, width)\n",
    "plt.xlabel('% of songs')\n",
    "plt.ylabel('Genre')\n",
    "plt.show()"
   ]
  },
  {
   "cell_type": "code",
   "execution_count": 9,
   "id": "75be6679-6227-40b5-b37e-6d2f6630f77b",
   "metadata": {},
   "outputs": [
    {
     "data": {
      "text/plain": [
       "dict_values([51.699999999999996, 49.90000000000003, 65.86666666666672, 231.01666666666677, 90.86666666666665, 48.66666666666667, 12.0, 56.366666666666674, 37.75, 54.333333333333336, 21.616666666666667, 11.416666666666668, 18.416666666666664, 21.116666666666664, 42.58333333333333, 7.583333333333332, 12.233333333333334, 36.78333333333333, 10.91666666666667, 12.283333333333337, 6.583333333333334])"
      ]
     },
     "execution_count": 9,
     "metadata": {},
     "output_type": "execute_result"
    }
   ],
   "source": [
    "paths = glob('')"
   ]
  }
 ],
 "metadata": {
  "kernelspec": {
   "display_name": "Python 3 (ipykernel)",
   "language": "python",
   "name": "python3"
  },
  "language_info": {
   "codemirror_mode": {
    "name": "ipython",
    "version": 3
   },
   "file_extension": ".py",
   "mimetype": "text/x-python",
   "name": "python",
   "nbconvert_exporter": "python",
   "pygments_lexer": "ipython3",
   "version": "3.9.12"
  }
 },
 "nbformat": 4,
 "nbformat_minor": 5
}
