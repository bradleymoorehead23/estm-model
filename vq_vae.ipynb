{
 "cells": [
  {
   "cell_type": "code",
   "execution_count": 1,
   "id": "1d76e280-59cf-4dda-90c1-0332002d82e9",
   "metadata": {},
   "outputs": [],
   "source": [
    "from functions import *"
   ]
  },
  {
   "cell_type": "markdown",
   "id": "075cdb23-051a-467a-944b-a3637a39703b",
   "metadata": {},
   "source": [
    "Audio to feature spectrogram:\n",
    "1. Mel-spectrogram\n",
    "2. Power-to-dB\n",
    "3. Standardization: $z=\\frac{x-\\mu}{\\sigma}$\n",
    "\n",
    "Feature spectrogram to audio:\n",
    "1. Unstandardization: $x=z\\cdot\\sigma+\\mu$\n",
    "2. dB-to-power\n",
    "3. Griffin-Lim"
   ]
  },
  {
   "cell_type": "code",
   "execution_count": 3,
   "id": "2879d8f4-fbc2-4788-b34b-cc76c0a30bfb",
   "metadata": {},
   "outputs": [],
   "source": [
    "n_segs = 10095"
   ]
  },
  {
   "cell_type": "code",
   "execution_count": 2,
   "id": "d954d0c0-b3ab-486e-93be-81ea45f02c66",
   "metadata": {},
   "outputs": [],
   "source": [
    "df = pd.read_csv('data\\\\deam_split.csv')\n",
    "songs = df['song_id']\n",
    "test = df['test']\n",
    "val = df['validation']"
   ]
  },
  {
   "cell_type": "code",
   "execution_count": 4,
   "id": "f644d9f8-3dc9-494f-a9e3-938ebc456995",
   "metadata": {},
   "outputs": [
    {
     "data": {
      "application/vnd.jupyter.widget-view+json": {
       "model_id": "c184953a06d842019744022c45971ae3",
       "version_major": 2,
       "version_minor": 0
      },
      "text/plain": [
       "  0%|          | 0/1802 [00:00<?, ?it/s]"
      ]
     },
     "metadata": {},
     "output_type": "display_data"
    }
   ],
   "source": [
    "max_pct_zero = 0.5\n",
    "paths = [f'data\\\\DEAM_standard_10s\\\\{song}-*.wav' for song in songs]\n",
    "\n",
    "X = np.zeros((n_segs, mels, ts, 1))\n",
    "means = np.zeros((n_segs, 1))\n",
    "stds  = np.zeros((n_segs, 1))\n",
    "test_val_train = np.zeros((n_segs, 3), dtype=bool)\n",
    "ids = []\n",
    "j = 0\n",
    "for i in tqdm(range(len(paths))):\n",
    "    files = glob(paths[i])\n",
    "    for file in files:\n",
    "        seg, sr = lb.load(file)\n",
    "        n = seg.shape[0]\n",
    "        if (seg == 0).sum()/n <= max_pct_zero:\n",
    "            db_norm, mean, std = audio_to\n",
    "            X[j, :, :, 0] = db_norm\n",
    "            means[j] = mean\n",
    "            stds[j] = std\n",
    "            test_val_train[j, 0] = test[i]\n",
    "            test_val_train[j, 1] = val[i]\n",
    "            test_val_train[j, 2] = 1 - max(test[i], val[i])\n",
    "            ids.append(file)\n",
    "            j += 1\n",
    "X = X[:j, :, :, :]\n",
    "test_val_train = test_val_train[:j, :]\n",
    "means = means[:j]\n",
    "stds = stds[:j]\n",
    "ids = np.array(ids)"
   ]
  },
  {
   "cell_type": "code",
   "execution_count": 6,
   "id": "8451f5dd-88a3-43b2-baaf-93cf26b29e22",
   "metadata": {},
   "outputs": [],
   "source": [
    "lrelu = keras.layers.LeakyReLU(alpha=0.01)"
   ]
  },
  {
   "cell_type": "code",
   "execution_count": 7,
   "id": "fa6af30d-0506-4011-85fc-f63334f23952",
   "metadata": {},
   "outputs": [],
   "source": [
    "def get_encoder(latent_dim):\n",
    "    encoder_inputs = keras.Input(shape=(mels, ts, 1))\n",
    "    x = Conv2D(64, 3, activation=lrelu, strides=(2, 3), padding='same')(encoder_inputs)\n",
    "    x = Conv2D(64, 3, activation=lrelu, strides=(2, 5), padding='same')(x)\n",
    "    x = Conv2D(64, 3, activation=lrelu, strides=(2, 1), padding='same')(x)\n",
    "    encoder_outputs = Conv2D(latent_dim, 1, padding='same')(x)\n",
    "    return keras.Model(encoder_inputs, encoder_outputs, name='encoder')"
   ]
  },
  {
   "cell_type": "code",
   "execution_count": 8,
   "id": "632ace69-98b2-4feb-8fe0-6fbc32896de4",
   "metadata": {},
   "outputs": [],
   "source": [
    "def get_decoder(latent_dim):\n",
    "    latent_inputs = keras.Input(shape=get_encoder(latent_dim).output.shape[1:])\n",
    "    x = Conv2DTranspose(64, 3, activation=lrelu, strides=(2, 1), padding='same')(latent_inputs)\n",
    "    x = Conv2DTranspose(64, 3, activation=lrelu, strides=(2, 5), padding='same')(x)\n",
    "    x = Conv2DTranspose(64, 3, activation=lrelu, strides=(2, 3), padding='same')(x)\n",
    "    decoder_outputs = Conv2DTranspose(1, 3, padding='same')(x)\n",
    "    return keras.Model(latent_inputs, decoder_outputs, name='decoder')"
   ]
  },
  {
   "cell_type": "code",
   "execution_count": 9,
   "id": "2b3fbcbd-b5f8-4752-8852-faa774d7c72d",
   "metadata": {},
   "outputs": [],
   "source": [
    "def get_vqvae(latent_dim, num_embeddings, beta=0.25):\n",
    "    vq_layer = VectorQuantizer(num_embeddings, latent_dim, beta=beta, name='vector_quantizer')\n",
    "    encoder = get_encoder(latent_dim)\n",
    "    decoder = get_decoder(latent_dim)\n",
    "    inputs = keras.Input(shape=(mels, ts, 1))\n",
    "    encoder_outputs = encoder(inputs)\n",
    "    quantized_latents = vq_layer(encoder_outputs)\n",
    "    reconstructions = decoder(quantized_latents)\n",
    "    return keras.Model(inputs, reconstructions, name='vq_vae')"
   ]
  },
  {
   "cell_type": "code",
   "execution_count": 11,
   "id": "37eb4b58-7393-4950-ab9a-768493051a2d",
   "metadata": {},
   "outputs": [],
   "source": [
    "latent_dim = 32\n",
    "num_embeddings = 512\n",
    "beta = 0.25"
   ]
  },
  {
   "cell_type": "code",
   "execution_count": 12,
   "id": "53b7c8e2-7dca-4528-9394-4315848d756e",
   "metadata": {},
   "outputs": [],
   "source": [
    "X_train = X[test_val_train[:, 2], :, :, :]\n",
    "X_val   = X[test_val_train[:, 1], :, :, :]\n",
    "X_test  = X[test_val_train[:, 0], :, :, :]\n",
    "X_nontest = np.concatenate([X_train, X_val], axis=0)\n",
    "\n",
    "train_id = ids[test_val_train[:, 2]]\n",
    "val_id   = ids[test_val_train[:, 1]]\n",
    "test_id  = ids[test_val_train[:, 0]]\n",
    "\n",
    "train_variance = np.var(X_nontest)"
   ]
  },
  {
   "cell_type": "code",
   "execution_count": 16,
   "id": "b0b00cc8-a653-4b8d-b0cc-031a420484db",
   "metadata": {},
   "outputs": [],
   "source": [
    "trainer = VQVAETrainer(train_variance, get_vqvae)\n",
    "trainer.build((None, mels, ts, 1))\n",
    "trainer.load_weights('vqvae_models/vqvae_model_2023_02_19_v0.h5')"
   ]
  },
  {
   "cell_type": "code",
   "execution_count": 17,
   "id": "cf3227b8-b0d3-4893-968f-b1e3df3cf7d7",
   "metadata": {},
   "outputs": [
    {
     "name": "stdout",
     "output_type": "stream",
     "text": [
      "1/1 [==============================] - 1s 537ms/step\n"
     ]
    }
   ],
   "source": [
    "pred = trainer.predict(X_test[0:2, :, :, :])"
   ]
  },
  {
   "cell_type": "code",
   "execution_count": 27,
   "id": "d48a9e0f-172e-4799-95cc-246e83eddd97",
   "metadata": {},
   "outputs": [
    {
     "data": {
      "text/plain": [
       "array([[ 2.0979561e-03,  2.3785140e-02,  3.4285475e-02, ...,\n",
       "         9.6459284e-02,  3.0276664e-02,  1.5243682e-02],\n",
       "       [-4.5241009e-02, -2.9260887e-02, -2.1417916e-02, ...,\n",
       "         7.8100711e-01, -1.3184089e-03, -3.9494004e-02],\n",
       "       [ 7.5309915e-03, -2.9880738e-02, -3.3727456e-02, ...,\n",
       "         4.5857084e-01, -7.6894350e-03,  1.1415266e-02],\n",
       "       ...,\n",
       "       [-2.2935154e-02,  4.5479570e-02, -2.0887196e-02, ...,\n",
       "         8.9959401e-01, -3.8612567e-02, -3.6722198e-02],\n",
       "       [-3.1723928e-02, -5.8093779e-03,  4.1860115e-02, ...,\n",
       "         5.2589375e-01, -3.8901597e-02, -3.8535632e-02],\n",
       "       [-2.4184074e-02,  1.2749281e-02,  1.7295409e-02, ...,\n",
       "        -1.3421308e+00,  2.6127433e-02, -8.8082682e-03]], dtype=float32)"
      ]
     },
     "execution_count": 27,
     "metadata": {},
     "output_type": "execute_result"
    }
   ],
   "source": [
    "quant = trainer.vqvae.get_layer('vector_quantizer')\n",
    "quant.embeddings.numpy()"
   ]
  }
 ],
 "metadata": {
  "kernelspec": {
   "display_name": "Python 3 (ipykernel)",
   "language": "python",
   "name": "python3"
  },
  "language_info": {
   "codemirror_mode": {
    "name": "ipython",
    "version": 3
   },
   "file_extension": ".py",
   "mimetype": "text/x-python",
   "name": "python",
   "nbconvert_exporter": "python",
   "pygments_lexer": "ipython3",
   "version": "3.9.12"
  }
 },
 "nbformat": 4,
 "nbformat_minor": 5
}
